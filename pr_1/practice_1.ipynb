{
 "cells": [
  {
   "cell_type": "markdown",
   "metadata": {
    "id": "UfI7FZudfGwv"
   },
   "source": [
    "# I. NumPy."
   ]
  },
  {
   "cell_type": "markdown",
   "metadata": {
    "id": "fQcvdlwdimQb"
   },
   "source": [
    "**Оцінювання даної роботи буде ураховувати якість Вашого коду та текстових відповідей. При наявності ЛИШЕ коду , робота оцінюватися НЕ БУДЕ.**  \n",
    "\n",
    "**Оформлення текстових відповідей повинно проводитися в текстових комірках ноутбука з використанням синтаксису [LaTeX](https://en.wikibooks.org/wiki/LaTeX/Basics) для оформлення тексту та формул.**\n",
    "\n",
    "**Роботи ідентифіковані як ІДЕНТИЧНІ одразу отримують 0 балів.**\n",
    "\n",
    "**При реалізації завдань потрібно використовувати методи з бібліотеки numpy та pandas.**\n",
    "\n",
    "**Рішення з циклами будуть оцінені в 0 балів.**"
   ]
  },
  {
   "cell_type": "markdown",
   "metadata": {
    "id": "XmA3PWg8fJxn"
   },
   "source": [
    "0. Імпортувати numpy загальноприйнятим способом."
   ]
  },
  {
   "cell_type": "code",
   "execution_count": 47,
   "metadata": {
    "id": "JUli5tR8eTXG",
    "jupyter": {
     "is_executing": true
    }
   },
   "outputs": [],
   "source": [
    "import numpy as np"
   ]
  },
  {
   "cell_type": "markdown",
   "metadata": {},
   "source": []
  },
  {
   "cell_type": "markdown",
   "metadata": {
    "id": "fppWPwoFjTrl"
   },
   "source": [
    "1. Визначити список з оцінками студента(ки) за семестр. Використовуючи його,\n",
    "\n",
    "*   Новый пункт\n",
    "*   Новый пункт\n",
    "\n",
    "створити одновимірний масив numpy."
   ]
  },
  {
   "cell_type": "code",
   "execution_count": 48,
   "metadata": {
    "id": "cuvs9lNAjVoB",
    "jupyter": {
     "is_executing": true
    }
   },
   "outputs": [
    {
     "name": "stdout",
     "output_type": "stream",
     "text": [
      "[85 92 78 95 88 75 90]\n"
     ]
    }
   ],
   "source": [
    "grades_list = [85, 92, 78, 95, 88, 75, 90]\n",
    "grades_array = np.array(grades_list)\n",
    "print(grades_array)"
   ]
  },
  {
   "cell_type": "markdown",
   "metadata": {},
   "source": [
    "[85 92 78 95 88 75 90]"
   ]
  },
  {
   "cell_type": "markdown",
   "metadata": {},
   "source": []
  },
  {
   "cell_type": "markdown",
   "metadata": {
    "id": "OGeLtAwcjcMB"
   },
   "source": [
    "2. Визначити список зі списками, де кожен рядок списку формально означає магазин, а кожна колонка - певний продукт (батон, яйця першої категорії, молоко та ковбаса), а елементами на пересічі є ціни на ці продукти відповідно. Використовуючи цей список, створити матрицю (двовимірний масив) numpy."
   ]
  },
  {
   "cell_type": "code",
   "execution_count": 49,
   "metadata": {
    "id": "zJ9kEAv5jcVo"
   },
   "outputs": [
    {
     "name": "stdout",
     "output_type": "stream",
     "text": [
      "[[10. 20. 30. 40.]\n",
      " [15. 25. 35. 45.]\n",
      " [26. 36. 46. 57.]]\n"
     ]
    }
   ],
   "source": [
    "prices = np.array([\n",
    "    [10.0, 20.0, 30.0, 40.0],\n",
    "    [15.0, 25.0, 35.0, 45.0],\n",
    "    [26.0, 36.0, 46.0, 57.0],\n",
    "])\n",
    "print(prices)"
   ]
  },
  {
   "cell_type": "markdown",
   "metadata": {},
   "source": [
    "[[10. 20. 30. 40.]\n",
    " [15. 25. 35. 45.]\n",
    " [26. 36. 46. 57.]]"
   ]
  },
  {
   "cell_type": "markdown",
   "metadata": {
    "id": "wK7wrEw2jcix"
   },
   "source": [
    "3. Отримайте тип даних значень з масивів завдань 2 та 3. Виведіть їх на екран."
   ]
  },
  {
   "cell_type": "code",
   "execution_count": 50,
   "metadata": {
    "id": "uDBL1x6vjcq9"
   },
   "outputs": [
    {
     "name": "stdout",
     "output_type": "stream",
     "text": [
      "int64 float64\n"
     ]
    }
   ],
   "source": [
    "print(grades_array.dtype, prices.dtype)"
   ]
  },
  {
   "cell_type": "markdown",
   "metadata": {},
   "source": [
    "int64 float64"
   ]
  },
  {
   "cell_type": "markdown",
   "metadata": {
    "id": "nNhAgsC3jcyp"
   },
   "source": [
    "4. Отримайте форми (кортеж з кількістю рядків та колонок) масивів завдань 2 та 3. Виведіть їх на екран."
   ]
  },
  {
   "cell_type": "code",
   "execution_count": 3,
   "metadata": {
    "id": "Fi5oXTI8jc4-"
   },
   "outputs": [
    {
     "name": "stdout",
     "output_type": "stream",
     "text": [
      "(7,) (3, 4)\n"
     ]
    }
   ],
   "source": [
    "import numpy as np\n",
    "grades_list = [85, 92, 78, 95, 88, 75, 90]\n",
    "grades_array = np.array(grades_list)\n",
    "prices = np.array([\n",
    "    [10.0, 20.0, 30.0, 40.0],\n",
    "    [15.0, 25.0, 35.0, 45.0],\n",
    "    [26.0, 36.0, 46.0, 57.0],\n",
    "])\n",
    "print(grades_array.shape, prices.shape)"
   ]
  },
  {
   "cell_type": "markdown",
   "metadata": {},
   "source": [
    "(7,) (3, 4)"
   ]
  },
  {
   "cell_type": "markdown",
   "metadata": {
    "id": "bpY-N8QZjdW-"
   },
   "source": [
    "5. Створіть одновимірний масив за допомогою спеціальної функції numpy, який би відображав динаміку стабільно зростаючого (з рівними проміжками) прибутку з продажів  за тиждень, де у перший день не було продажів, а в останній день тижня вдалося заробити 1000 грн 50 коп."
   ]
  },
  {
   "cell_type": "code",
   "execution_count": 52,
   "metadata": {
    "id": "r3LcjnUKjdeu"
   },
   "outputs": [
    {
     "name": "stdout",
     "output_type": "stream",
     "text": [
      "[   0.    166.75  333.5   500.25  667.    833.75 1000.5 ]\n"
     ]
    }
   ],
   "source": [
    "profit = np.linspace(0, 1000.50, 7)\n",
    "print(profit)"
   ]
  },
  {
   "cell_type": "markdown",
   "metadata": {},
   "source": [
    "[   0.    166.75  333.5   500.25  667.    833.75 1000.5 ]"
   ]
  },
  {
   "cell_type": "markdown",
   "metadata": {
    "id": "zQM0SY9jjebO"
   },
   "source": [
    "6. Створіть два масиви. Використовуючи їх, продемонструйте відмінність вертикального та горизонтального обʼєднання масивів."
   ]
  },
  {
   "cell_type": "code",
   "execution_count": 53,
   "metadata": {
    "id": "8uoi0_lxjeh-"
   },
   "outputs": [],
   "source": [
    "arr1 = np.array([3, 7, 8])\n",
    "arr2 = np.array([5, 8, 9])\n",
    "\n",
    "vertical_stack = np.vstack((arr1, arr2))\n",
    "horizontal_stack = np.hstack((arr1, arr2))"
   ]
  },
  {
   "cell_type": "markdown",
   "metadata": {},
   "source": [
    "[[3 7 8]\n",
    " [5 8 9]]\n",
    "[3 7 8 5 8 9]"
   ]
  },
  {
   "cell_type": "markdown",
   "metadata": {
    "id": "Fwh5D1pDm3t7"
   },
   "source": [
    "7. Визначити функцію, яка приймає на вході масив і транспонує його. Скористайтесь методом reshape. І не забудьте почати з docstrings."
   ]
  },
  {
   "cell_type": "code",
   "execution_count": 54,
   "metadata": {
    "id": "FSWZq0mkm31Z"
   },
   "outputs": [],
   "source": [
    "def transpose_array(arr):\n",
    "  return arr.reshape(arr.shape[::1])"
   ]
  },
  {
   "cell_type": "markdown",
   "metadata": {
    "id": "Nnxk8vqYm379"
   },
   "source": [
    "8. Створіть два масиви. Використовучи ці масиви, продемонструйте 1) операцію по-елементного додавання, 2) операцію по-елементного віднімання, 3) множення масиву на число, 4) операцію по-елементного множення, і 5) матричного множення."
   ]
  },
  {
   "cell_type": "code",
   "execution_count": 55,
   "metadata": {
    "id": "qO1rfvmVm4BI"
   },
   "outputs": [
    {
     "name": "stdout",
     "output_type": "stream",
     "text": [
      "[5 7 9]\n",
      "[-3 -3 -3]\n",
      "[2 4 6]\n",
      "[ 4 10 18]\n",
      "32\n"
     ]
    }
   ],
   "source": [
    "arr1 = np.array([1, 2, 3])\n",
    "arr2 = np.array([4, 5, 6])\n",
    "\n",
    "print(arr1 + arr2)\n",
    "print(arr1 - arr2)\n",
    "print(arr1 * 2)\n",
    "print(arr1 * arr2)\n",
    "print(np.dot(arr1, arr2))"
   ]
  },
  {
   "cell_type": "markdown",
   "metadata": {},
   "source": [
    "[5 7 9]\n",
    "[-3 -3 -3]\n",
    "[2 4 6]\n",
    "[ 4 10 18]\n",
    "32"
   ]
  },
  {
   "cell_type": "markdown",
   "metadata": {
    "id": "7aGdszTGuMCC"
   },
   "source": [
    "9. Створіть двовимірний масив (матрицю) та розрахуйте: 1) мінімальне число, 2) максимальне число, 3) суму чисел, 4) мінімальні числа для кожного рядка, 5) максимальні числа для кожного стовпчика."
   ]
  },
  {
   "cell_type": "code",
   "execution_count": 56,
   "metadata": {
    "id": "RL_39YdauMKS"
   },
   "outputs": [
    {
     "name": "stdout",
     "output_type": "stream",
     "text": [
      "1 8 43\n",
      "[1 2 5] [8 8 6]\n"
     ]
    }
   ],
   "source": [
    "matrix = np.random.randint(1, 10, (3, 3))\n",
    "print(matrix.min(), matrix.max(), matrix.sum())\n",
    "print(matrix.min(axis=1), matrix.max(axis=0))"
   ]
  },
  {
   "cell_type": "markdown",
   "metadata": {},
   "source": [
    "1 8 37\n",
    "[3 1 1] [7 8 5]"
   ]
  },
  {
   "cell_type": "markdown",
   "metadata": {
    "id": "c_hNdOpjHRFo"
   },
   "source": [
    "10. Створіть матрицю , де деякі елементи повторюються. Знайдіть унікальні значення елементів цієї матриці та їхні частоти."
   ]
  },
  {
   "cell_type": "code",
   "execution_count": 57,
   "metadata": {
    "id": "FJ-zUJUQnBp8"
   },
   "outputs": [
    {
     "name": "stdout",
     "output_type": "stream",
     "text": [
      "[1 2 3 4 5] [2 4 5 3 1]\n"
     ]
    }
   ],
   "source": [
    "matrix = np.array([[1, 2, 3, 2, 1], [2, 3, 4, 3, 2], [3, 4, 5, 4, 3]])\n",
    "unique_values, counts = np.unique(matrix, return_counts=True)\n",
    "print(unique_values, counts)"
   ]
  },
  {
   "cell_type": "markdown",
   "metadata": {},
   "source": [
    "[1 2 3 4 5] [2 4 5 3 1]"
   ]
  },
  {
   "cell_type": "markdown",
   "metadata": {
    "id": "Usj7tyjnprEV"
   },
   "source": [
    "# II. Importing. Creating DF"
   ]
  },
  {
   "cell_type": "markdown",
   "metadata": {
    "id": "ePGNrYa6pxRY"
   },
   "source": [
    "0. Імпортувати бібліотеку pandas"
   ]
  },
  {
   "cell_type": "code",
   "execution_count": 58,
   "metadata": {
    "id": "KIPDNBqQpvkI"
   },
   "outputs": [],
   "source": [
    "import pandas as pd"
   ]
  },
  {
   "cell_type": "markdown",
   "metadata": {
    "id": "8g9-hgi5qWJv"
   },
   "source": [
    "11. Створити тестовий датафрейм зі списку, що містить записи пацієнтів про їхні прізвища, імена, дату народження, масу тіла та наявність медичного страхування. Одне зі значень зробить пустим. Ознайомтесь з типом кожної колонки."
   ]
  },
  {
   "cell_type": "code",
   "execution_count": 59,
   "metadata": {
    "id": "OvA4GvJ5qYb1"
   },
   "outputs": [
    {
     "name": "stdout",
     "output_type": "stream",
     "text": [
      "<class 'pandas.core.frame.DataFrame'>\n",
      "RangeIndex: 3 entries, 0 to 2\n",
      "Data columns (total 5 columns):\n",
      " #   Column     Non-Null Count  Dtype  \n",
      "---  ------     --------------  -----  \n",
      " 0   Surname    3 non-null      object \n",
      " 1   Name       3 non-null      object \n",
      " 2   Birthday   3 non-null      object \n",
      " 3   Weight     3 non-null      float64\n",
      " 4   Insurance  3 non-null      bool   \n",
      "dtypes: bool(1), float64(1), object(3)\n",
      "memory usage: 231.0+ bytes\n",
      "None\n"
     ]
    }
   ],
   "source": [
    "data = {\n",
    "    \"Surname\": [\"a\", \"b\", \"c\"],\n",
    "    \"Name\": [\"Ivan\", \"Petro\", \"Sidor\"],\n",
    "    \"Birthday\": [\"1990-01-01\", \"1985-05-15\", \"1995-12-31\"],\n",
    "    \"Weight\": [75.5, 68.2, 80.0],\n",
    "    \"Insurance\": [True, False, True]\n",
    "}\n",
    "df = pd.DataFrame(data)\n",
    "print(df.info())"
   ]
  },
  {
   "cell_type": "markdown",
   "metadata": {
    "id": "b1SvVHjjqcv-"
   },
   "source": [
    "# III. Reading from file"
   ]
  },
  {
   "cell_type": "markdown",
   "metadata": {
    "id": "7HhZWLs_qhgq"
   },
   "source": [
    "12. Завантажити файл missile_attacks_daily.csv з [Kaggle](https://www.kaggle.com/datasets/piterfm/massive-missile-attacks-on-ukraine?select=missile_attacks_daily.csv). Ознайомитись з описом датасету. Додати файл до папки поточної сесії colab notebook на панелі ліворуч або на гугл диск (локально до проєкту, якщо працюєте у пайчармі). Зчитати датафрейм з файлу та вивести датафрейм на екран. Зверніть увагу на те, щоб всі колонки відповідали наведеним у описі типам даних."
   ]
  },
  {
   "cell_type": "code",
   "execution_count": 60,
   "metadata": {
    "id": "oQcB3kIqqg0h"
   },
   "outputs": [
    {
     "name": "stdout",
     "output_type": "stream",
     "text": [
      "         time_start          time_end           model  \\\n",
      "0  2025-02-02 19:00  2025-02-03 09:00  Shahed-136/131   \n",
      "1  2025-02-01 21:00  2025-02-02 09:00  Shahed-136/131   \n",
      "2        2025-02-02        2025-02-02          Молнія   \n",
      "3        2025-02-02        2025-02-02            ZALA   \n",
      "4        2025-02-02        2025-02-02        Supercam   \n",
      "5        2025-02-02        2025-02-02          Lancet   \n",
      "6  2025-01-31 19:00  2025-02-01 09:00       X-59/X-69   \n",
      "7  2025-01-31 19:00  2025-02-01 09:00           X-31P   \n",
      "8  2025-01-31 19:00  2025-02-01 09:00       X-22/X-32   \n",
      "9  2025-01-31 19:00  2025-02-01 09:00     X-101/X-555   \n",
      "\n",
      "                                        launch_place   target  carrier  \\\n",
      "0  Primorsko-Akhtarsk and Chauda, Crimea and Kurs...  Ukraine      NaN   \n",
      "1  Primorsko-Akhtarsk and Kursk oblast and Oryol ...  Ukraine      NaN   \n",
      "2                                                NaN    south      NaN   \n",
      "3                                                NaN    south      NaN   \n",
      "4                                                NaN    south      NaN   \n",
      "5                                                NaN    south      NaN   \n",
      "6                                    Voronezh oblast  Ukraine      NaN   \n",
      "7                                          Black Sea  Ukraine      NaN   \n",
      "8                                                NaN  Ukraine  Tu-22M3   \n",
      "9                                                NaN  Ukraine  Tu-95MS   \n",
      "\n",
      "   launched  destroyed  not_reach_goal  cross_border_belarus  back_russia  \\\n",
      "0      71.0       38.0            25.0                   NaN          NaN   \n",
      "1      55.0       40.0            13.0                   NaN          NaN   \n",
      "2       5.0        5.0             NaN                   NaN          NaN   \n",
      "3       3.0        3.0             NaN                   NaN          NaN   \n",
      "4       5.0        5.0             NaN                   NaN          NaN   \n",
      "5       1.0        1.0             NaN                   NaN          NaN   \n",
      "6      10.0        NaN             NaN                   NaN          NaN   \n",
      "7       2.0        NaN             NaN                   NaN          NaN   \n",
      "8       8.0        NaN             NaN                   NaN          NaN   \n",
      "9       8.0        NaN             NaN                   NaN          NaN   \n",
      "\n",
      "   still_attacking                                    affected region  \\\n",
      "0              NaN  ['Kharkiv oblast', 'Sumy oblast', 'Cherkasy ob...   \n",
      "1              NaN                  ['Kharkiv oblast', 'Sumy oblast']   \n",
      "2              NaN                                                NaN   \n",
      "3              NaN                                                NaN   \n",
      "4              NaN                                                NaN   \n",
      "5              NaN                                                NaN   \n",
      "6              NaN                                                NaN   \n",
      "7              NaN                                                NaN   \n",
      "8              NaN                                                NaN   \n",
      "9              NaN                                                NaN   \n",
      "\n",
      "                                   destroyed_details launched_details  \\\n",
      "0  {'Khmelnytskyi oblast': 2, 'Vinnytsia oblast':...              NaN   \n",
      "1  {'Odesa oblast and Mykolaiv oblast and Kherson...              NaN   \n",
      "2                                                NaN              NaN   \n",
      "3                                                NaN              NaN   \n",
      "4                                                NaN              NaN   \n",
      "5                                                NaN              NaN   \n",
      "6                                                NaN              NaN   \n",
      "7                                                NaN              NaN   \n",
      "8                                                NaN              NaN   \n",
      "9                                                NaN              NaN   \n",
      "\n",
      "  launch_place_details                                             source  \n",
      "0                  NaN  kpszsu/posts/pfbid02yjEwUfnvhyxx8yYjoAw6wquEj4...  \n",
      "1                  NaN  kpszsu/posts/pfbid027MDQHcpoaCZUeSLdSzw2kokeGh...  \n",
      "2                  NaN  PvKPivden/posts/pfbid025PREGufqtUXiDK2RuHeS644...  \n",
      "3                  NaN  PvKPivden/posts/pfbid025PREGufqtUXiDK2RuHeS644...  \n",
      "4                  NaN  PvKPivden/posts/pfbid025PREGufqtUXiDK2RuHeS644...  \n",
      "5                  NaN  PvKPivden/posts/pfbid025PREGufqtUXiDK2RuHeS644...  \n",
      "6                  NaN  kpszsu/posts/pfbid0aFVytMd4cuXwcV5sNnABLnxXo3r...  \n",
      "7                  NaN  kpszsu/posts/pfbid0aFVytMd4cuXwcV5sNnABLnxXo3r...  \n",
      "8                  NaN  kpszsu/posts/pfbid0aFVytMd4cuXwcV5sNnABLnxXo3r...  \n",
      "9                  NaN  kpszsu/posts/pfbid0aFVytMd4cuXwcV5sNnABLnxXo3r...  \n"
     ]
    }
   ],
   "source": [
    "df_missiles = pd.read_csv(\"missile_attacks_daily.csv\")\n",
    "print(df_missiles.head(10))"
   ]
  },
  {
   "cell_type": "markdown",
   "metadata": {
    "id": "89zu0WNErzd2"
   },
   "source": [
    "# IV. Data understanding"
   ]
  },
  {
   "cell_type": "markdown",
   "metadata": {
    "id": "LJqrTfHr2d1G"
   },
   "source": [
    "13. Виведіть на екран перші 10 рядків зчитаного датафрейму."
   ]
  },
  {
   "cell_type": "code",
   "execution_count": 61,
   "metadata": {
    "id": "GdVE9WYwr1sD"
   },
   "outputs": [
    {
     "name": "stdout",
     "output_type": "stream",
     "text": [
      "  Surname   Name    Birthday  Weight  Insurance\n",
      "0       a   Ivan  1990-01-01    75.5       True\n",
      "1       b  Petro  1985-05-15    68.2      False\n",
      "2       c  Sidor  1995-12-31    80.0       True\n"
     ]
    }
   ],
   "source": [
    "print(df.head(10))"
   ]
  },
  {
   "cell_type": "markdown",
   "metadata": {
    "id": "1PtkLHWj2lq0"
   },
   "source": [
    "14. Отримайте інформацію про форму датафрейму."
   ]
  },
  {
   "cell_type": "code",
   "execution_count": 62,
   "metadata": {
    "id": "CBPTYTjV2mtG"
   },
   "outputs": [
    {
     "name": "stdout",
     "output_type": "stream",
     "text": [
      "(3, 5)\n"
     ]
    }
   ],
   "source": [
    "print(df.shape)"
   ]
  },
  {
   "cell_type": "markdown",
   "metadata": {
    "id": "GDVcFC6F2yVz"
   },
   "source": [
    "15. Отримайте дані про кожну колонку з її назвою, типом даних та кількістю непустих значень."
   ]
  },
  {
   "cell_type": "code",
   "execution_count": 63,
   "metadata": {
    "id": "GTRgfKJ920bn"
   },
   "outputs": [
    {
     "name": "stdout",
     "output_type": "stream",
     "text": [
      "<class 'pandas.core.frame.DataFrame'>\n",
      "RangeIndex: 3 entries, 0 to 2\n",
      "Data columns (total 5 columns):\n",
      " #   Column     Non-Null Count  Dtype  \n",
      "---  ------     --------------  -----  \n",
      " 0   Surname    3 non-null      object \n",
      " 1   Name       3 non-null      object \n",
      " 2   Birthday   3 non-null      object \n",
      " 3   Weight     3 non-null      float64\n",
      " 4   Insurance  3 non-null      bool   \n",
      "dtypes: bool(1), float64(1), object(3)\n",
      "memory usage: 231.0+ bytes\n",
      "None\n"
     ]
    }
   ],
   "source": [
    "print(df.info())"
   ]
  },
  {
   "cell_type": "markdown",
   "metadata": {
    "id": "DEy-hgsw2452"
   },
   "source": [
    "16. Отримайте статистику для колонок числового типу."
   ]
  },
  {
   "cell_type": "code",
   "execution_count": 64,
   "metadata": {
    "id": "94mI2N9t267Q"
   },
   "outputs": [
    {
     "name": "stdout",
     "output_type": "stream",
     "text": [
      "          Weight\n",
      "count   3.000000\n",
      "mean   74.566667\n",
      "std     5.955110\n",
      "min    68.200000\n",
      "25%    71.850000\n",
      "50%    75.500000\n",
      "75%    77.750000\n",
      "max    80.000000\n"
     ]
    }
   ],
   "source": [
    "print(df.describe())"
   ]
  },
  {
   "cell_type": "markdown",
   "metadata": {
    "id": "n0MGJU2C2-iD"
   },
   "source": [
    "17. Отримати кількість унікальних значень у кожній колонці. Вивести на екран значення та кількість цих значень у колонці, яка має найменше унікальних значень."
   ]
  },
  {
   "cell_type": "code",
   "execution_count": 65,
   "metadata": {
    "id": "lQh_jdGe3BK5"
   },
   "outputs": [
    {
     "name": "stdout",
     "output_type": "stream",
     "text": [
      "Surname      3\n",
      "Name         3\n",
      "Birthday     3\n",
      "Weight       3\n",
      "Insurance    2\n",
      "dtype: int64\n"
     ]
    }
   ],
   "source": [
    "unique_counts = df.nunique()\n",
    "min_unique_col = unique_counts.idxmin()\n",
    "min_unique_count = unique_counts[min_unique_col]\n",
    "print(unique_counts)"
   ]
  },
  {
   "cell_type": "markdown",
   "metadata": {
    "id": "Ue9ECz5-3_pq"
   },
   "source": [
    "# V. Data Cleaning"
   ]
  },
  {
   "cell_type": "markdown",
   "metadata": {
    "id": "ZtHUiSrV4CL-"
   },
   "source": [
    "19. Перетворити колонку launched у цілочислену (Int64). Перевірити, чи все пройшло, як очікувалось."
   ]
  },
  {
   "cell_type": "code",
   "execution_count": 66,
   "metadata": {
    "id": "AWyo_-Un3xqz"
   },
   "outputs": [
    {
     "name": "stdout",
     "output_type": "stream",
     "text": [
      "Int64\n"
     ]
    }
   ],
   "source": [
    "df_missiles = pd.read_csv(\"missile_attacks_daily.csv\")\n",
    "df_missile = df_missiles[\"launched\"].astype(\"Int64\")\n",
    "print(df_missile.dtypes)"
   ]
  },
  {
   "cell_type": "markdown",
   "metadata": {
    "id": "KsHhM4EM4O3d"
   },
   "source": [
    "20. Видалити колонки, де кількість непустих значень становить менше 30% від загальної кількості записів."
   ]
  },
  {
   "cell_type": "code",
   "execution_count": 67,
   "metadata": {
    "id": "Z1ZCclle4Vyk"
   },
   "outputs": [
    {
     "name": "stdout",
     "output_type": "stream",
     "text": [
      "(2079, 8)\n"
     ]
    }
   ],
   "source": [
    "df_missiles = pd.read_csv(\"missile_attacks_daily.csv\")\n",
    "df_missile = df_missiles.dropna(thresh=0.3*len(df_missile), axis=1)\n",
    "print(df_missile.shape)"
   ]
  },
  {
   "cell_type": "markdown",
   "metadata": {
    "id": "p8cD0M0U4cNT"
   },
   "source": [
    "21. Очистити датафрейм від дублікатів (дублюючихся рядків) та записів, де атака продовжувалась відʼємну або нульову кількість часу (що фізично неможливо). Не забудьте оновити індекс. Скільки рядків було видалено? Як ви це перевірили у коді?"
   ]
  },
  {
   "cell_type": "code",
   "execution_count": 68,
   "metadata": {
    "id": "in3Fvn0I4l-I"
   },
   "outputs": [
    {
     "name": "stdout",
     "output_type": "stream",
     "text": [
      "Видалено 1617 рядків\n"
     ]
    }
   ],
   "source": [
    "df_missiles = pd.read_csv(\"missile_attacks_daily.csv\")\n",
    "before_rows = len(df_missile)\n",
    "df_missile[\"time_start\"] = pd.to_datetime(df_missile[\"time_start\"], errors=\"coerce\")\n",
    "df_missile[\"time_end\"] = pd.to_datetime(df_missile[\"time_end\"], errors=\"coerce\")\n",
    "\n",
    "df_missile[\"duration\"] = (df_missile[\"time_end\"] - df_missile[\"time_start\"]).dt.total_seconds()\n",
    "\n",
    "df_missile = df_missile.drop_duplicates()\n",
    "\n",
    "df_missile = df_missile[df_missile[\"duration\"] > 0]\n",
    "df_missile.reset_index(drop=True, inplace=True)\n",
    "\n",
    "print(f\"Видалено {before_rows - len(df_missile)} рядків\")"
   ]
  },
  {
   "cell_type": "markdown",
   "metadata": {
    "id": "6oZ7C_ry4uvb"
   },
   "source": [
    "22. Виведіть на екран всі рядки, де є хоч одне пропущене значення."
   ]
  },
  {
   "cell_type": "code",
   "execution_count": 69,
   "metadata": {
    "id": "BPmCTDtg4wVS"
   },
   "outputs": [
    {
     "name": "stdout",
     "output_type": "stream",
     "text": [
      "             time_start            time_end           model     launch_place  \\\n",
      "2   2025-01-31 19:00:00 2025-02-01 09:00:00       X-59/X-69  Voronezh oblast   \n",
      "3   2025-01-31 19:00:00 2025-02-01 09:00:00           X-31P        Black Sea   \n",
      "4   2025-01-31 19:00:00 2025-02-01 09:00:00       X-22/X-32              NaN   \n",
      "5   2025-01-31 19:00:00 2025-02-01 09:00:00     X-101/X-555              NaN   \n",
      "53  2025-01-03 12:00:00 2025-01-03 20:00:00       X-59/X-69              NaN   \n",
      "..                  ...                 ...             ...              ...   \n",
      "457 2022-10-06 15:00:00 2022-10-06 20:00:00       Mohajer-6              NaN   \n",
      "458 2022-10-06 09:00:00 2022-10-06 11:30:00  Shahed-136/131              NaN   \n",
      "459 2022-10-06 09:00:00 2022-10-06 11:30:00       Mohajer-6              NaN   \n",
      "460 2022-10-02 00:00:00 2022-10-02 02:00:00  Shahed-136/131              NaN   \n",
      "461 2022-09-29 23:00:00 2022-09-29 23:59:00  Shahed-136/131              NaN   \n",
      "\n",
      "                               target  launched  destroyed  \\\n",
      "2                             Ukraine      10.0        NaN   \n",
      "3                             Ukraine       2.0        NaN   \n",
      "4                             Ukraine       8.0        NaN   \n",
      "5                             Ukraine       8.0        NaN   \n",
      "53              Dnipropetrovsk oblast       3.0        3.0   \n",
      "..                                ...       ...        ...   \n",
      "457                             south       1.0        1.0   \n",
      "458                   Mykolaiv oblast       2.0        2.0   \n",
      "459                   Mykolaiv oblast       1.0        1.0   \n",
      "460                   Mykolaiv oblast       7.0        5.0   \n",
      "461  Odesa oblast and Mykolaiv oblast       7.0        5.0   \n",
      "\n",
      "                                                source  duration  \n",
      "2    kpszsu/posts/pfbid0aFVytMd4cuXwcV5sNnABLnxXo3r...   50400.0  \n",
      "3    kpszsu/posts/pfbid0aFVytMd4cuXwcV5sNnABLnxXo3r...   50400.0  \n",
      "4    kpszsu/posts/pfbid0aFVytMd4cuXwcV5sNnABLnxXo3r...   50400.0  \n",
      "5    kpszsu/posts/pfbid0aFVytMd4cuXwcV5sNnABLnxXo3r...   50400.0  \n",
      "53   kpszsu/posts/pfbid02v1KGGb6TjgiYbVUoMCWPuAVZYn...   28800.0  \n",
      "..                                                 ...       ...  \n",
      "457  kpszsu/posts/pfbid0rxEnbpvxAg8d8J5NW9ABgghPzcb...   18000.0  \n",
      "458  kpszsu/posts/pfbid02YPkepucHoDQbmGfZURk8ScqNyM...    9000.0  \n",
      "459  kpszsu/posts/pfbid02YPkepucHoDQbmGfZURk8ScqNyM...    9000.0  \n",
      "460  kpszsu/posts/pfbid021aK2TqryAuB8gGrDYMTv3R8Xiu...    7200.0  \n",
      "461  kpszsu/posts/pfbid021aK2TqryAuB8gGrDYMTv3R8Xiu...    3540.0  \n",
      "\n",
      "[124 rows x 9 columns]\n"
     ]
    }
   ],
   "source": [
    "print(df_missile[df_missile.isna().any(axis=1)])"
   ]
  }
 ],
 "metadata": {
  "colab": {
   "collapsed_sections": [
    "dwSyU2AjXwc-"
   ],
   "provenance": []
  },
  "kernelspec": {
   "display_name": "Python 3",
   "name": "python3"
  },
  "language_info": {
   "codemirror_mode": {
    "name": "ipython",
    "version": 3
   },
   "file_extension": ".py",
   "mimetype": "text/x-python",
   "name": "python",
   "nbconvert_exporter": "python",
   "pygments_lexer": "ipython3",
   "version": "3.13.1"
  }
 },
 "nbformat": 4,
 "nbformat_minor": 0
}
